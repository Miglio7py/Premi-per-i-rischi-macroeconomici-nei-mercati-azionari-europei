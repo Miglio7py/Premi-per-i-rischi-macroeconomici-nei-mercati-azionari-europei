{
 "cells": [
  {
   "cell_type": "markdown",
   "id": "35046dc6-a8de-4d3e-96cf-b00995e80130",
   "metadata": {},
   "source": [
    "# Creazione degli Indicatori tramite la PCA\n",
    "Questo codice deve essere eseguito due volte, una con le variabili grezze e una con le variabili shock. Quello che si ottiene sono le componenti principali delle variabili grezze e degli shock."
   ]
  },
  {
   "cell_type": "code",
   "execution_count": null,
   "id": "be78766f-b01b-4ca9-9603-4d93d31bd646",
   "metadata": {},
   "outputs": [],
   "source": [
    "import pandas as pd\n",
    "import numpy as np\n",
    "import pickle\n",
    "import os\n",
    "import matplotlib.pyplot as plt\n",
    "from sklearn.decomposition import PCA"
   ]
  },
  {
   "cell_type": "markdown",
   "id": "0f33759c-24b9-4c8a-a572-ad60c162685c",
   "metadata": {},
   "source": [
    "Import delle variabili e creazione diszionario."
   ]
  },
  {
   "cell_type": "code",
   "execution_count": null,
   "id": "cda842e1-71fd-4ea5-a84f-8ae2f67fa756",
   "metadata": {},
   "outputs": [],
   "source": [
    "# Lista dei paesi e dei nomi dei file. Varia in base a dove e come vengono salvati i dati.\n",
    "Variables = [\"Produzione Industriale\", \"Spread 10-2\", \"Inflation\", \"Unrate\", \"GDP\", \"Employment\", \"Current Account\", \"Cost of Borrow Corporate\"]\n",
    "file_names = [\"prod_shock\", \"spread_shock\", \"infl_shock\", \"unrate_shock\", \"gdp_shock\", \"employ_shock\", \"curracc_shock\", \"costborrow_\"]\n",
    "\n",
    "# Cartella base del percorso (esempio).\n",
    "base_folder = \"/Users/nome/****/****\"\n",
    "\n",
    "# Dizionario per memorizzare i DataFrame, in questo caso il codice è quello che riguarda gli SHOCK.\n",
    "Shock = {}\n",
    "\n",
    "# Ciclo per importare i dataframe di tutte le variabili macroeconomiche.\n",
    "for variable in Variables:\n",
    "    for file_name in file_names:\n",
    "        file_path = f\"{base_folder}/{variable}/{file_name}.pkl\"\n",
    "        if os.path.exists(file_path):\n",
    "            df = pd.read_pickle(file_path)\n",
    "            df = df.dropna()\n",
    "            # Salva il DataFrame nel dizionario\n",
    "            Shock[f\"{variable}_{file_name}\"] = df\n",
    "            print(f\"Dati caricati per {variable} - {file_name}.\")\n",
    "        else:\n",
    "            print(f\"File non trovato: {file_path}\")"
   ]
  },
  {
   "cell_type": "markdown",
   "id": "35e3f4d7-3bcf-4abc-8bb8-f8b0f91a139f",
   "metadata": {},
   "source": [
    "Il codice successivo serve per assegnare a tutte le variabili lo stesso indice."
   ]
  },
  {
   "cell_type": "code",
   "execution_count": null,
   "id": "7ef42e33-a443-49dc-a988-4d6fb581ea09",
   "metadata": {},
   "outputs": [],
   "source": [
    "# 1. Ottieni l'indice di 'Produzione Industriale_shocks_prod'\n",
    "if 'Produzione Industriale_prod' in Shock:\n",
    "    indice_comune = Shock['Produzione Industriale_prod'].index\n",
    "    print(f\"Indice comune di 'Produzione Industriale': {indice_comune}\")\n",
    "\n",
    "    # 2. Rimuovi l'indice da tutti i DataFrame tranne quello di 'Produzione Industriale'\n",
    "    for key in Shock:\n",
    "        if key != 'Produzione Industriale_prod':\n",
    "            # Rimuovi l'indice dal DataFrame\n",
    "            Shock[key] = Shock[key].reset_index(drop=True)\n",
    "            print(f\"Indice rimosso per: {key}\")\n",
    "    \n",
    "    # 3. Assegna l'indice di 'Produzione Industriale_shocks_prod' a tutti gli altri DataFrame\n",
    "    for key in Shock:\n",
    "        if key != 'Produzione Industriale_prod':\n",
    "            Shock[key].index = indice_comune\n",
    "            print(f\"Indice di 'Produzione Industriale' assegnato a: {key}\")\n",
    "else:\n",
    "    print(\"Il DataFrame per 'Produzione Industriale' non è stato trovato.\")\n",
    "# 4. Ora i DataFrame sono allineati con l'indice di 'Produzione Industriale'\n"
   ]
  },
  {
   "cell_type": "markdown",
   "id": "00577a9f-80f6-41a1-ac5e-718776d4e87b",
   "metadata": {},
   "source": [
    "Si crea il dataframe finale con all'interno tutte le variabili."
   ]
  },
  {
   "cell_type": "code",
   "execution_count": null,
   "id": "d5e055e9-8134-40c0-a01c-db3a042c9a67",
   "metadata": {},
   "outputs": [],
   "source": [
    "data = {}\n",
    "\n",
    "indice_comune = Shock['Produzione Industriale_prod']['Germania'].index\n",
    "\n",
    "countries = [\"Germania\", \"Francia\", \"Italia\", \"Spagna\", \"Finlandia\", \"Olanda\"]\n",
    "\n",
    "for country in countries:\n",
    "    for var, file_name in zip(Variables, file_names):\n",
    "        column_name = f'{country}_{var.lower().replace(\" \", \"_\")}'  # Es. 'Germania_produzione_industriale'\n",
    "        \n",
    "        # Recuperare i dati dal dizionario 'Shock'.\n",
    "        data[column_name] = Shock[f'{var}_{file_name}'][country].reindex(indice_comune)\n",
    "\n",
    "df = pd.DataFrame(data)\n",
    "\n",
    "# Imposta l'indice del DataFrame\n",
    "df.index = indice_comune\n",
    "\n",
    "print(df.head())\n",
    "\n"
   ]
  },
  {
   "cell_type": "markdown",
   "id": "3e9c37af-d27e-404a-bc3c-39fca4d8d771",
   "metadata": {},
   "source": [
    "Si plottano le medie mobili di tutte le variabili per tutte le nazioni (facoltativo)"
   ]
  },
  {
   "cell_type": "code",
   "execution_count": null,
   "id": "3286bdda-8b3d-4a28-9971-15231a60b113",
   "metadata": {},
   "outputs": [],
   "source": [
    "num_columns = df.shape[1]\n",
    "\n",
    "plt.figure(figsize=(15, 20))\n",
    "\n",
    "# Crea un grafico per ogni gruppo di colonne.\n",
    "for i in range(8):  \n",
    "    plt.subplot(8, 1, i + 1) \n",
    "    \n",
    "    columns_to_plot = [j for j in range(i, num_columns, 8)] \n",
    "    \n",
    "    # Calcolare la media mobile a 4 periodi per le colonne selezionate\n",
    "    for col in columns_to_plot:\n",
    "        col_name = df.columns[col]  \n",
    "        plt.plot(df.index, df.iloc[:, col].rolling(window=4).mean(), label=col_name)  \n",
    "\n",
    "    plt.xlabel('Tempo', fontsize=12)\n",
    "    plt.ylabel('Valore', fontsize=12)\n",
    "    plt.grid(True)\n",
    "    plt.legend(loc='best', fontsize=10)\n",
    "\n",
    "plt.tight_layout()\n",
    "plt.show()"
   ]
  },
  {
   "cell_type": "markdown",
   "id": "22ef28bf-ef5d-4584-a348-a5f25f24bb93",
   "metadata": {},
   "source": [
    "## Principal Component Analysis"
   ]
  },
  {
   "cell_type": "code",
   "execution_count": null,
   "id": "ec9dd6b3-3fdc-488c-96ea-98e9c32b27ea",
   "metadata": {},
   "outputs": [],
   "source": [
    "# Funzione per calcolare la PCA e ottenere i loadings di un singolo paese.\n",
    "def calcolare_pca_con_loadings(df, paese, n_components):\n",
    "    \n",
    "    df_paese = df.filter(regex=f\"^{paese}\") # Filtrare i dati per le variabili macro specifiche di ogni paese\n",
    "\n",
    "    scaler = StandardScaler()\n",
    "    df_paese_standardizzato = scaler.fit_transform(df_paese)\n",
    "    \n",
    "    # Applicare la PCA\n",
    "    pca = PCA(n_components=n_components)\n",
    "    pca.fit(df_paese_standardizzato)\n",
    "    \n",
    "    return pca"
   ]
  },
  {
   "cell_type": "markdown",
   "id": "d8305e5d-7f33-43d3-b313-e377f4d7ebe6",
   "metadata": {},
   "source": [
    "All'interno del ciclo sono commentate le righe di codice in cui sono state invertiti i loadings delle PCA. Questo è stato fatto per i paesi che avevano la componente principale invertita rispetto agli altri paesi."
   ]
  },
  {
   "cell_type": "code",
   "execution_count": null,
   "id": "42876365-b20a-4ab2-90de-49859db85023",
   "metadata": {},
   "outputs": [],
   "source": [
    "# Inizializza una lista per memorizzare i loadings di ogni componente principale per tutti i paesi.\n",
    "loadings_per_component = {j: [] for j in range(n_components)}\n",
    "\n",
    "# Calcola i loadings per ogni paese e memorizzarli.\n",
    "for paese in countries:\n",
    "    pca_completo = calcolare_pca_con_loadings(df, paese, n_components)\n",
    "    \n",
    "    for j in range(n_components):\n",
    "        loadings = pca_completo.components_[j]\n",
    "        #if paese == 'Italia' and j in [3]:\n",
    "        #    loadings = [-x for x in loadings]\n",
    "        #if paese == 'Spagna' and j in [3]:\n",
    "        #    loadings = [-x for x in loadings]\n",
    "        #if paese == 'Finlandia' and j in [0]:\n",
    "        #    loadings = [-x for x in loadings]\n",
    "        #if paese == 'Francia' and j in [1]:\n",
    "        #    loadings = [-x for x in loadings]\n",
    "        #if paese == 'Olanda' and j in [0]:\n",
    "        #    loadings = [-x for x in loadings]\n",
    "        loadings_per_component[j].append(loadings)\n",
    "\n"
   ]
  },
  {
   "cell_type": "markdown",
   "id": "e5739b76-b0a0-4859-806f-a8f8a1e1fc24",
   "metadata": {},
   "source": [
    "Si calcolano e salvano media e deviazione standard dei loadings della stessa componente tra i paesi. Questo passaggio è necessario per la costruzione del grafico loadings PCA all'interno della tesi."
   ]
  },
  {
   "cell_type": "code",
   "execution_count": null,
   "id": "75234edc-6b74-4496-b14e-7d2b9718dfb0",
   "metadata": {},
   "outputs": [],
   "source": [
    "mean_loadings_per_component = {\n",
    "    j: np.mean(loadings_per_component[j], axis=0) for j in range(n_components)\n",
    "}\n",
    "std_loadings_per_component = {\n",
    "    j: np.std(loadings_per_component[j], axis=0) for j in range(n_components)\n",
    "}\n",
    "\n",
    "# Si salvano i valori per richiamarli all'intenro di un altro notebook in cui viene \n",
    "# costruito un unico grafico sia per i loading delle PC grezze che per quelli delle shock.\n",
    "with open('mean_loadings_per_component_GREZZE.pkl', 'wb') as f:\n",
    "    pickle.dump(mean_loadings_per_component, f)\n",
    "with open('std_loadings_per_component_GREZZE.pkl', 'wb') as f:\n",
    "    pickle.dump(std_loadings_per_component, f)"
   ]
  },
  {
   "cell_type": "markdown",
   "id": "d1f06da9-746b-455e-8320-f01ce9234e9a",
   "metadata": {},
   "source": [
    "Viaualizzazione grafica dei loadings."
   ]
  },
  {
   "cell_type": "code",
   "execution_count": null,
   "id": "965d98af-5e6f-4ebb-999e-ddc5ccc95064",
   "metadata": {},
   "outputs": [],
   "source": [
    "plt.figure(figsize=(20, 5))  \n",
    "plt.suptitle(\"Media dei Loadings tra paesi \", fontsize=16, fontweight='bold')\n",
    "\n",
    "for j in range(n_components):\n",
    "    mean_loadings = mean_loadings_per_component[j]\n",
    "    std_loadings = std_loadings_per_component[j]\n",
    "    \n",
    "    # Crea il subplot per la componente corrente\n",
    "    ax = plt.subplot(1, n_components, j + 1)  \n",
    "    \n",
    "    # Area ombreggiata per deviazione standard\n",
    "    ax.bar(range(len(mean_loadings)), mean_loadings,\n",
    "           color=['#4c72b0' if x >= 0 else '#c44e52' for x in mean_loadings])  # Blu per positivi, Rosso per negativi\n",
    "    \n",
    "    # Ombreggiatura intorno alla media\n",
    "    ax.fill_between(range(len(mean_loadings)),\n",
    "                    np.array(mean_loadings) - np.array(std_loadings),\n",
    "                    np.array(mean_loadings) + np.array(std_loadings),\n",
    "                    color='gray', alpha=0.3)\n",
    "    \n",
    "    ax.set_xticks(range(len(mean_loadings)))\n",
    "    ax.set_xticklabels(Variables, rotation=45, ha=\"right\", fontsize=10)\n",
    "    \n",
    "    ax.set_title(f'PC{j+1} Grezze', fontsize=14, fontweight='bold')\n",
    "    ax.set_ylabel('Loading Medio', fontsize=12)\n",
    "    \n",
    "    ax.set_ylim(-1, 1) \n",
    "    \n",
    "    ax.grid(True, linestyle='-', linewidth=0.5, color='gray', alpha=0.5)\n",
    "\n",
    "plt.tight_layout(rect=[0, 0.03, 1, 0.95])\n",
    "\n",
    "plt.savefig('media_loadings_pca_GREZZE_INVERTITE.png', dpi=300, bbox_inches='tight')\n",
    "\n",
    "plt.show()\n"
   ]
  },
  {
   "cell_type": "markdown",
   "id": "f6d4fd2b-18af-4379-8f8a-d7f8a2f78463",
   "metadata": {},
   "source": [
    "## Salvataggio degli Indicatori (Componenti Principali)"
   ]
  },
  {
   "cell_type": "code",
   "execution_count": null,
   "id": "0a8be2d9-aba3-444c-8cf8-67d542b3141c",
   "metadata": {},
   "outputs": [],
   "source": [
    "# Creazione dei DataFrame per PC1, PC2, PC3 e PC4\n",
    "\n",
    "df_pc1 = pd.DataFrame({\n",
    "    'Germania': germania_pca[:, 0],\n",
    "\n",
    "    'Francia': francia_pca[:, 0],\n",
    "    'Italia': italia_pca[:, 0],\n",
    "    'Spagna': spagna_pca[:, 0],\n",
    "    'Finlandia': finlandia_pca[:, 0],\n",
    "    'Olanda': olanda_pca[:, 0]\n",
    "}, index=df.index)\n",
    "\n",
    "df_pc2 = pd.DataFrame({\n",
    "    'Germania': germania_pca[:, 1],\n",
    "    'Francia': francia_pca[:, 1],\n",
    "    'Italia': italia_pca[:, 1],\n",
    "    'Spagna': spagna_pca[:, 1],\n",
    "    'Finlandia': finlandia_pca[:, 1],\n",
    "    'Olanda': olanda_pca[:, 1]\n",
    "}, index=df.index)\n",
    "\n",
    "df_pc3 = pd.DataFrame({\n",
    "    'Germania': germania_pca[:, 2],\n",
    "    'Francia': francia_pca[:, 2],\n",
    "    'Italia': italia_pca[:, 2],\n",
    "    'Spagna': spagna_pca[:, 2],\n",
    "    'Finlandia': finlandia_pca[:, 2],\n",
    "    'Olanda': olanda_pca[:, 2]\n",
    "}, index=df.index)\n",
    "\n",
    "df_pc4 = pd.DataFrame({\n",
    "    'Germania': germania_pca[:, 3],\n",
    "    'Francia': francia_pca[:, 3],\n",
    "    'Italia': italia_pca[:, 3],\n",
    "    'Spagna': spagna_pca[:, 3],\n",
    "    'Finlandia': finlandia_pca[:, 3],\n",
    "    'Olanda': olanda_pca[:, 3]\n",
    "}, index=df.index)"
   ]
  },
  {
   "cell_type": "code",
   "execution_count": null,
   "id": "873ff603-94ea-47c1-bc77-a4737cd72180",
   "metadata": {},
   "outputs": [],
   "source": [
    "#Si invertono i valori delle PCA con loadings invertiti rispetto agli altri paesi.\n",
    "df_pc1['Olanda'] = df_pc1['Olanda'] * -1\n",
    "df_pc2['Francia'] = df_pc2['Francia'] * -1\n",
    "df_pc4['Germania'] = df_pc4['Germania'] * -1\n",
    "df_pc4['Francia'] = df_pc4['Francia'] * -1\n",
    "df_pc4['Italia'] = df_pc4['Italia'] * -1\n",
    "df_pc4['Finlandia'] = df_pc4['Finlandia'] * -1\n",
    "\n",
    "df_pc1.to_pickle('pc1_grezze_all_nations.pkl')\n",
    "df_pc2.to_pickle('pc2_grezze_all_nations.pkl')\n",
    "df_pc3.to_pickle('pc3_grezze_all_nations.pkl')\n",
    "df_pc4.to_pickle('pc4_grezze_all_nations.pkl')"
   ]
  }
 ],
 "metadata": {
  "kernelspec": {
   "display_name": "Python 3 (ipykernel)",
   "language": "python",
   "name": "python3"
  },
  "language_info": {
   "codemirror_mode": {
    "name": "ipython",
    "version": 3
   },
   "file_extension": ".py",
   "mimetype": "text/x-python",
   "name": "python",
   "nbconvert_exporter": "python",
   "pygments_lexer": "ipython3",
   "version": "3.8.19"
  }
 },
 "nbformat": 4,
 "nbformat_minor": 5
}
