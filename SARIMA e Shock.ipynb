{
 "cells": [
  {
   "cell_type": "markdown",
   "id": "f5b10561-6fb3-4cf1-9eea-652d4e82182d",
   "metadata": {},
   "source": [
    "# Macroeconomic Variables\n",
    "In questo codice viene eseguito il SARIMA su ua singola variabile macroeconomica per il calcolo dei suoi SHOCK."
   ]
  },
  {
   "cell_type": "code",
   "execution_count": null,
   "id": "277e416c-34ad-469b-9483-a5a1f5e22cef",
   "metadata": {},
   "outputs": [],
   "source": [
    "import pandas as pd\n",
    "import numpy as np\n",
    "import matplotlib.pyplot as plt\n",
    "from statsmodels.tsa.stattools import adfuller\n",
    "from statsmodels.graphics.tsaplots import plot_acf, plot_pacf\n",
    "from statsmodels.tsa.statespace.sarimax import SARIMAX\n",
    "from statsmodels.stats.diagnostic import acorr_ljungbox\n",
    "from statsmodels.tsa.seasonal import seasonal_decompose"
   ]
  },
  {
   "cell_type": "code",
   "execution_count": null,
   "id": "683bd17a-8d6f-46ef-b391-e26cc9ba2ffd",
   "metadata": {},
   "outputs": [],
   "source": [
    "# Si carica per esempio il dataset della Produzione Industriale.\n",
    "Prod_Ind = pd.read_csv('Prod_Ind.csv', sep=';', index_col='Data', parse_dates=True)\n",
    "\n",
    "Prod_Ind = Prod_Ind.pct_change()\n",
    "Prod_Ind = Prod_Ind.dropna()\n",
    "\n",
    "# Visualizzazione dataframe.\n",
    "for col in Prod_Ind.columns:\n",
    "    plt.plot(Prod_Ind.index, Prod_Ind[col], label=col)\n",
    "\n",
    "plt.title(\"Variazione Percentuale di Prod Ind per le 6 nazioni\")\n",
    "plt.legend(loc=\"upper left\", title=\"Legenda\")\n",
    "plt.show()"
   ]
  },
  {
   "cell_type": "markdown",
   "id": "f281acf2-a4a7-4d69-a0be-65d286bfe013",
   "metadata": {},
   "source": [
    "## Test Stazionarietà e differenziazioni\n",
    "Viene testata la stazionarietà di tutte le serie con l'Augmented Dickey Fuller Test. Se almeno una serie risulta non stazionaria, si differenziano tutte le serie in modo da mantenere coerenza nel loro significato."
   ]
  },
  {
   "cell_type": "code",
   "execution_count": null,
   "id": "c901728e-216b-4aa3-beda-5593f929a00f",
   "metadata": {},
   "outputs": [],
   "source": [
    "# Test di stazionarietà e differenziazione automatica delle serie non stazionarie.\n",
    "def ensure_stationarity(series_list):\n",
    "    non_stationary_found = False  \n",
    "\n",
    "    # Controllo della stazionarietà per ogni serie\n",
    "    for series in series_list:\n",
    "        p_value = test_stationarity(series)\n",
    "        if p_value > 0.05: \n",
    "            non_stationary_found = True\n",
    "            break\n",
    "\n",
    "    if non_stationary_found:\n",
    "        print(\"Almeno una serie non è stazionaria. Differenzio tutte le serie per mantenere il significato economico.\")\n",
    "        # Differenzia tutte le serie\n",
    "        return {name: series.diff().dropna() for name, series in series_list.items()}\n",
    "    else:\n",
    "        print(\"Tutte le serie sono stazionarie.\")\n",
    "        return series_list\n",
    "\n",
    "Prod_Ind_diff = pd.DataFrame()\n",
    "for col in Prod_Ind.columns:\n",
    "    print(f'Test di stazionarietà e differenziazione per {col}')\n",
    "    Prod_Ind_diff[col] = ensure_stationarity(Prod_Ind[col])"
   ]
  },
  {
   "cell_type": "markdown",
   "id": "883dad88-0e28-4201-b74d-3eb31dc03bd1",
   "metadata": {},
   "source": [
    "Le serie risultanti sono le Variabili \"GREZZE\" su cui si calcolano gli shock. Si salvano."
   ]
  },
  {
   "cell_type": "code",
   "execution_count": null,
   "id": "bf6769de-cd8c-4bf5-9148-6ce2654d0872",
   "metadata": {},
   "outputs": [],
   "source": [
    "# Salvataggio variabili grezze\n",
    "filename = 'prod_grezze.pkl'\n",
    "Prod_Ind_diff.to_pickle(filename)"
   ]
  },
  {
   "cell_type": "markdown",
   "id": "cf488428-6269-47c6-ade2-1dd6bbac9351",
   "metadata": {},
   "source": [
    "## Tuning dei Parametri SARIMA"
   ]
  },
  {
   "cell_type": "markdown",
   "id": "878ecadb-564a-4878-8868-2c0ca653a609",
   "metadata": {},
   "source": [
    "Visualizzazione grafica delle componenti autoregressive e media mobile presenti nelle serie storiche con la Autocorrelation Function e la Partial Autocorrelation Function."
   ]
  },
  {
   "cell_type": "code",
   "execution_count": null,
   "id": "4711464f-c57a-4e93-af15-c690121a0296",
   "metadata": {},
   "outputs": [],
   "source": [
    "def plot_acf_pacf(series, lags=40):\n",
    "    fig, ax = plt.subplots(1, 2, figsize=(15,5))\n",
    "    plot_acf(series, lags=lags, ax=ax[0])\n",
    "    plot_pacf(series, lags=lags, ax=ax[1])\n",
    "    plt.show()\n",
    "\n",
    "for col in Prod_Ind.columns:\n",
    "    print(f'{col}')\n",
    "    plot_acf_pacf(Prod_Ind_diff[col] , lags=20)\n",
    "plt.show()"
   ]
  },
  {
   "cell_type": "markdown",
   "id": "5a38a5e7-f99f-4900-96c2-f0ee98122630",
   "metadata": {},
   "source": [
    "Calcolo dei parametri ideali trmite il Test di verifica delle informazioni di Akaike (AIC)."
   ]
  },
  {
   "cell_type": "code",
   "execution_count": null,
   "id": "1a8dab13-a69e-421f-8b82-8ee0e941dcbc",
   "metadata": {},
   "outputs": [],
   "source": [
    "def find_best_sarima(series, max_p=3, max_q=3, max_P=2, max_Q=2, max_s=4):\n",
    "    best_aic = np.inf\n",
    "    best_order = None\n",
    "    best_seasonal_order = None\n",
    "    best_mdl = None\n",
    "    \n",
    "    # d=0 in quanto le serie sono già stazionarie e in modo da mantenere lo stesso significato tra le serie.\n",
    "    for p in range(max_p+1):\n",
    "        for q in range(max_q+1):\n",
    "            for P in range(max_P+1):\n",
    "                for Q in range(max_Q+1):\n",
    "                    for S in range(max_s+1):\n",
    "                        \n",
    "                        try:\n",
    "                            mdl = SARIMAX(series, order=(p, 0, q), \n",
    "                                          seasonal_order=(P, 0, Q, S)).fit(disp=False)\n",
    "                            # Verifica se questo modello ha il miglior AIC\n",
    "                            if mdl.aic < best_aic:\n",
    "                                best_aic = mdl.aic\n",
    "                                best_order = (p, 0, q)\n",
    "                                best_seasonal_order = (P, 0, Q, S)\n",
    "                                best_mdl = mdl\n",
    "                        except:\n",
    "                            continue\n",
    "\n",
    "    print(f'Miglior ordine SARIMA: {best_order} stagionale: {best_seasonal_order} con AIC: {best_aic}')\n",
    "    return best_mdl\n",
    "\n",
    "# Trova il miglior modello SARIMA per ogni serie differenziata.\n",
    "# Si salvano i fitted values di ogni modello ottimale.\n",
    "models = {}\n",
    "predictions = {}\n",
    "for col in Prod_Ind_diff.columns:\n",
    "    print(f'Modello ARIMA ottimale per la serie {col}')\n",
    "    model = find_best_sarima(Prod_Ind_diff[col])\n",
    "    models[col] = model\n",
    "    predictions[col] = model.fittedvalues\n"
   ]
  },
  {
   "cell_type": "markdown",
   "id": "2a7e741e-66ef-408b-b36f-1c88ad71fe3b",
   "metadata": {},
   "source": [
    "## Calcolo e salvataggio degli shock"
   ]
  },
  {
   "cell_type": "code",
   "execution_count": null,
   "id": "d8cf02d8-047f-4ba5-a15a-b9d2272d988d",
   "metadata": {},
   "outputs": [],
   "source": [
    "# Calcolo degli shock come differenza tra i valori osservati e le previsioni\n",
    "shocks = pd.DataFrame()\n",
    "for col in Prod_Ind_diff.columns:\n",
    "    shocks[col] = Prod_Ind_diff[col] - predictions[col] \n",
    "\n",
    "shocks = shocks.dropna()"
   ]
  },
  {
   "cell_type": "code",
   "execution_count": null,
   "id": "bfa26ee0-16be-496a-9d86-dca6dd1b2617",
   "metadata": {},
   "outputs": [],
   "source": [
    "# Salvataggio degli shock.\n",
    "output_filename_pkl = 'prod_shocks.pkl'\n",
    "shocks.to_pickle(output_filename_pkl)"
   ]
  }
 ],
 "metadata": {
  "kernelspec": {
   "display_name": "Python 3 (ipykernel)",
   "language": "python",
   "name": "python3"
  },
  "language_info": {
   "codemirror_mode": {
    "name": "ipython",
    "version": 3
   },
   "file_extension": ".py",
   "mimetype": "text/x-python",
   "name": "python",
   "nbconvert_exporter": "python",
   "pygments_lexer": "ipython3",
   "version": "3.8.19"
  }
 },
 "nbformat": 4,
 "nbformat_minor": 5
}
